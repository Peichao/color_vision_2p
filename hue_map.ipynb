{
 "cells": [
  {
   "cell_type": "code",
   "execution_count": 1,
   "metadata": {
    "collapsed": true
   },
   "outputs": [],
   "source": [
    "animal = 'AE2'\n",
    "unit = '001'\n",
    "trial = '021'\n",
    "\n",
    "file_path = 'D:\\\\2P_data\\\\F\\\\%s\\\\u%s_%s\\\\1\\\\F_%s_u%s_%s_plane1_proc.mat' % (animal, unit, trial, animal, unit, trial)\n",
    "analyzer_path = 'F:\\\\NHP\\\\AE2\\\\AnalyzerFiles\\\\%s\\\\%s_u%s_%s.analyzer' % (animal, animal, unit, trial)\n",
    "plot = 'y'"
   ]
  },
  {
   "cell_type": "code",
   "execution_count": 2,
   "metadata": {
    "collapsed": true
   },
   "outputs": [],
   "source": [
    "import scipy.io as sio\n",
    "import functions\n",
    "\n",
    "F = sio.loadmat(file_path, squeeze_me=True, struct_as_record=False)['dat']\n",
    "params = functions.analyzer_params(analyzer_path)\n",
    "trial_num, stim_time = functions.analyzer_pg_conds(analyzer_path)\n",
    "trial_num['direction'] = trial_num.ori\n",
    "trial_num.ori[(trial_num.ori >= 180) & (trial_num.ori != 256)] = trial_num.ori[(trial_num.ori >= 180) &\n",
    "                                                                               (trial_num.ori != 256)] - 180"
   ]
  },
  {
   "cell_type": "code",
   "execution_count": 3,
   "metadata": {},
   "outputs": [],
   "source": [
    "import numpy as np\n",
    "import scipy as sp\n",
    "import pandas as pd\n",
    "from scipy import stats\n",
    "import matplotlib.pyplot as plt\n",
    "\n",
    "mean_image = F.mimg[:, :, 1]\n",
    "color_mask = np.zeros(mean_image.shape)\n",
    "pref_cells = pd.DataFrame(columns=['expt', 'x', 'y', 'color_pref'])\n",
    "osi_df = pd.DataFrame(columns=['expt', 'x', 'y', 'r_pref', 'r_orth', 'osi', 'color_pref'])\n",
    "color_hex = ['#af1600', '#8a4600', '#5a5d01', '#2a6600', '#006a00', '#006931', '#006464', '#0058b6', '#002DFF', '#6a2ade', '#97209b', '#aa1c50']\n",
    "\n",
    "for i, cell in enumerate(F.stat):\n",
    "    if cell.iscell == 1:\n",
    "        scans = int(F.Fcell.shape[1] / trial_num.shape[0])\n",
    "        t = np.linspace(stim_time[0] * -1, stim_time.sum() - stim_time[1], scans)\n",
    "        cell_F = pd.DataFrame(np.reshape(F.Fcell[i, :], (int(F.Fcell.shape[1] / scans), scans)))\n",
    "        cell_F.insert(0, 'Orientation', trial_num.ori)\n",
    "        cell_F.insert(1, 'Direction', trial_num.direction)\n",
    "        cell_F.insert(2, 'Spatial Frequency', trial_num.s_freq)\n",
    "        cell_F.insert(3, 'Color', trial_num.colormod)\n",
    "        cell_F.insert(4, 'Baseline',\n",
    "                      np.reshape(F.Fcell[i, :], (int(F.Fcell.shape[1] / scans), scans))\n",
    "                      [:, 0:int(np.floor(scans * stim_time[0] / stim_time.sum())) - 1].mean(axis=1))\n",
    "        \n",
    "        start_sample = int(np.ceil(scans * (stim_time[0] + 0.5) / stim_time.sum()))\n",
    "        end_sample = int(scans - np.ceil(scans * (stim_time[1]) / stim_time.sum()))\n",
    "        \n",
    "        cell_F.iloc[:, -scans:] = cell_F.iloc[:, -scans:].subtract(cell_F['Baseline'], axis=0).divide(cell_F['Baseline'],\n",
    "                                                                                                  axis=0)\n",
    "        \n",
    "        cell_F_stim = pd.DataFrame(cell_F.iloc[:, -(scans-start_sample):-(scans-end_sample)].mean(axis=1), columns=['Mean'])\n",
    "        cell_F_stim.insert(0, 'Orientation', trial_num.ori)\n",
    "        cell_F_stim.insert(1, 'Direction', trial_num.direction)\n",
    "        cell_F_stim.insert(2, 'Spatial Frequency', trial_num.s_freq)\n",
    "        cell_F_stim.insert(3, 'Color', trial_num.colormod)\n",
    "        \n",
    "        max_response = cell_F_stim.groupby('Color').mean()['Mean'].max()\n",
    "        \n",
    "        # Calculate OSI and save into DataFrame\n",
    "        x_med, y_med = cell.med\n",
    "        counts_ori = cell_F_stim.groupby(['Orientation', 'Spatial Frequency']).mean()\n",
    "        counts_sf = cell_F_stim.groupby(['Spatial Frequency', 'Orientation']).mean()\n",
    "        sem_ori = cell_F_stim.groupby(['Orientation', 'Spatial Frequency']).sem()\n",
    "        sem_sf = cell_F_stim.groupby(['Spatial Frequency', 'Orientation']).sem()\n",
    "        \n",
    "        s_freq_max = counts_ori.unstack(level=1).mean(axis=0).idxmax()\n",
    "        orientation_max = counts_ori.unstack(level=1).mean(axis=1).idxmax()\n",
    "        ori_pref = counts_sf['Mean'][s_freq_max[1]].idxmax()\n",
    "        r_pref = counts_sf['Mean'][s_freq_max[1]].loc[ori_pref]\n",
    "        if ori_pref < 90:\n",
    "            ori_orth = ori_pref + 90\n",
    "        else:\n",
    "            ori_orth = ori_pref - 90\n",
    "        r_orth = counts_sf['Mean'][s_freq_max[1]].loc[ori_orth]\n",
    "        osi = (r_pref - r_orth) / r_pref\n",
    "        \n",
    "        osi_df.loc[i] = [analyzer_path[-17:-9], x_med, y_med, r_pref, r_orth, osi, 0]\n",
    "        \n",
    "        colors = np.unique(trial_num.colormod.values)\n",
    "        list_F_stim = [cell_F_stim[cell_F_stim['Color'] == color]['Mean'] for color in colors]\n",
    "        F_value, p = sp.stats.f_oneway(*list_F_stim)\n",
    "        \n",
    "        if p < 0.001:\n",
    "            max_response = cell_F_stim.groupby('Color').mean()['Mean'].max()\n",
    "            if max_response > 0.04:\n",
    "                max_color = cell_F_stim.groupby('Color').mean()['Mean'].idxmax()\n",
    "                if max_color < 16:\n",
    "                    ortho_color = max_color + 6\n",
    "                else:\n",
    "                    ortho_color = max_color - 6\n",
    "                ortho_response = cell_F_stim.groupby('Color').mean()['Mean'][ortho_color]\n",
    "                color_si = (max_response - ortho_response) / max_response\n",
    "                if color_si > 0.7:\n",
    "                    color_mask[(cell.ypix - 1), (cell.xpix - 1)] = max_color\n",
    "                    if plot == 'y':\n",
    "                        plt.ioff()\n",
    "                        fig, ax = plt.subplots()\n",
    "                        ax.scatter(cell_F_stim.groupby('Color').mean()['Mean'].index.values, cell_F_stim.groupby('Color').mean()['Mean'].values, color=color_hex, s=100, zorder=2)\n",
    "                        ax.fill_between(cell_F_stim.groupby('Color').mean()['Mean'].index.values, \n",
    "                                        cell_F_stim.groupby('Color').mean()['Mean'] - cell_F_stim.groupby('Color').sem()['Mean'],\n",
    "                                        cell_F_stim.groupby('Color').mean()['Mean'] + cell_F_stim.groupby('Color').sem()['Mean'],\n",
    "                                        alpha=0.5, color='#808080', zorder=1)\n",
    "                        ax.xaxis.set_ticks([])\n",
    "                        ax.set_ylabel(r'Response ($\\Delta F/F$)')\n",
    "                        plt.savefig('D:/nhp_cells/cell%d.pdf' % i, format='pdf')\n",
    "                        plt.close()\n",
    "                    pref_cells.loc[i] = [analyzer_path[-17:-9], x_med, y_med, max_color]                    \n",
    "                    osi_df.loc[i, 'color_pref'] = 1\n",
    "\n",
    "pref_cells.to_csv('D:/nhp_cells/%s_color_pref_df.csv' % analyzer_path[-17:-9])\n",
    "osi_df.to_csv('D:/nhp_cells/color_osi/%s_color_osi_df.csv' % analyzer_path[-17:-9])"
   ]
  },
  {
   "cell_type": "code",
   "execution_count": 56,
   "metadata": {},
   "outputs": [],
   "source": [
    "from matplotlib.colors import ListedColormap\n",
    "from matplotlib.colors import ColorConverter\n",
    "# colors = ['#BA0000', '#C03100', '#D3ED00', '#3AF000', '#09F300', '#0AF125', '#0FEBAD', '#032EB3', '#000091', '#23009B', '#1200A2', '#B50020']\n",
    "colors = ['#af1600', '#8a4600', '#5a5d01', '#2a6600', '#006a00', '#006931', '#006464', '#0058b6', '#002DFF', '#6a2ade', '#97209b', '#aa1c50']\n",
    "cmap = ListedColormap(colors, 'indexed')\n",
    "cmap.set_under(ColorConverter.to_rgba('white', alpha=0))\n",
    "\n",
    "fig, ax = plt.subplots(figsize=(7, 7))\n",
    "ax.imshow(mean_image, cmap='gray', alpha=0.8)\n",
    "im = ax.imshow(color_mask, cmap=cmap, vmin=10)\n",
    "cb = fig.colorbar(im)\n",
    "cb.set_ticks([])\n",
    "cb.set_label('Preferred Color')\n",
    "plt.axis('off')\n",
    "plt.savefig('D:/nhp_cells/%s_color_map.pdf' % analyzer_path[-17:-9], format='pdf', bbox_inches='tight')\n",
    "np.save('D:/nhp_cells/%s_color_map.npy' % analyzer_path[-17:-9], color_mask)\n",
    "plt.close()"
   ]
  },
  {
   "cell_type": "code",
   "execution_count": 57,
   "metadata": {},
   "outputs": [
    {
     "data": {
      "image/png": "[encoded data removed]",
      "text/plain": [
       "<matplotlib.figure.Figure at 0x20f0878a4a8>"
      ]
     },
     "metadata": {},
     "output_type": "display_data"
    }
   ],
   "source": [
    "import glob\n",
    "color_map_files = glob.glob('D:\\\\nhp_cells\\\\*color_map.npy')\n",
    "fig, ax = plt.subplots()\n",
    "for file in color_map_files:\n",
    "    color_map = np.load(file)\n",
    "    ax.imshow(color_map, cmap=cmap, vmin=10, vmax=21)\n",
    "ax.set_xticks([])\n",
    "ax.set_yticks([])\n",
    "cb = fig.colorbar(im)\n",
    "cb.set_ticks([])\n",
    "cb.set_label('Preferred Color')\n",
    "plt.title('Color Tuning Map')\n",
    "plt.savefig('D:/nhp_cells/color_map_all.pdf', format='pdf', bbox_inches='tight')\n",
    "plt.show()"
   ]
  },
  {
   "cell_type": "code",
   "execution_count": 170,
   "metadata": {},
   "outputs": [],
   "source": [
    "color_pref_files = glob.glob('H:\\\\nhp_cells\\\\*color_pref_df.csv')\n",
    "list_ = []\n",
    "for file in color_pref_files:\n",
    "    df = pd.read_csv(file, index_col=0, header=0)\n",
    "    list_.append(df)\n",
    "color_pref_all = pd.concat(list_)"
   ]
  },
  {
   "cell_type": "code",
   "execution_count": 171,
   "metadata": {},
   "outputs": [],
   "source": [
    "color_pref_rb = color_pref_all[(color_pref_all.color_pref == 17) | (color_pref_all.color_pref == 10)]"
   ]
  },
  {
   "cell_type": "code",
   "execution_count": 172,
   "metadata": {},
   "outputs": [],
   "source": [
    "from matplotlib.colors import Normalize\n",
    "from sklearn import svm\n",
    "from sklearn.svm import SVC\n",
    "from sklearn.preprocessing import StandardScaler\n",
    "from sklearn.model_selection import StratifiedShuffleSplit, GridSearchCV\n",
    "\n",
    "xx, yy = np.meshgrid(np.linspace(-3, 3, 500),\n",
    "                     np.linspace(-3, 3, 500))\n",
    "X = color_pref_rb[['x', 'y']].as_matrix()\n",
    "scaler = StandardScaler()\n",
    "X = scaler.fit_transform(X)\n",
    "Y = color_pref_rb[['color_pref']].as_matrix().ravel()\n",
    "\n",
    "clf = svm.NuSVC()\n",
    "clf.fit(X, Y)\n",
    "\n",
    "Z = clf.decision_function(np.c_[xx.ravel(), yy.ravel()])\n",
    "Z = Z.reshape(xx.shape)\n",
    "\n",
    "fig, ax = plt.subplots()\n",
    "ax.imshow(Z, interpolation='nearest', extent=(xx.min(), xx.max(), yy.min(), yy.max()), aspect='auto',\n",
    "          origin='lower', cmap='jet_r')\n",
    "contours = ax.contour(xx, yy, Z, levels=[-0.5, .5], linewidths=1, colors='k')\n",
    "scat = ax.scatter(X[:, 0], X[:, 1], s=30, c=Y, cmap=cmap, edgecolors='k', vmin=10, vmax=21)\n",
    "fig.colorbar(scat)\n",
    "plt.savefig('H:/nhp_cells/color_map_all_fit.pdf', format='pdf', bbox_inches='tight')\n",
    "plt.show()\n",
    "plt.close()"
   ]
  },
  {
   "cell_type": "code",
   "execution_count": 201,
   "metadata": {},
   "outputs": [],
   "source": [
    "color_osi_files = glob.glob('H:\\\\nhp_cells\\\\color_osi\\\\*color_osi_df.csv')\n",
    "list_ = []\n",
    "for file in color_osi_files:\n",
    "    df = pd.read_csv(file, index_col=0, header=0)\n",
    "    list_.append(df)\n",
    "color_osi = pd.concat(list_)"
   ]
  },
  {
   "cell_type": "code",
   "execution_count": 211,
   "metadata": {},
   "outputs": [
    {
     "data": {
      "image/png": "[encoded data removed]",
      "text/plain": [
       "<matplotlib.figure.Figure at 0x19582031390>"
      ]
     },
     "metadata": {},
     "output_type": "display_data"
    }
   ],
   "source": [
    "grouped_osi = color_osi[color_osi.r_pref > 0.02][['osi', 'color_pref']].groupby(['color_pref'])\n",
    "grouped_osi.boxplot(column=['osi'])\n",
    "plt.show()\n",
    "plt.close()"
   ]
  },
  {
   "cell_type": "code",
   "execution_count": 212,
   "metadata": {},
   "outputs": [
    {
     "data": {
      "text/plain": [
       "0.20052198772076169"
      ]
     },
     "execution_count": 212,
     "metadata": {},
     "output_type": "execute_result"
    }
   ],
   "source": [
    "t_stat, p = stats.ttest_ind(color_osi[(color_osi.color_pref == 1) & (color_osi.r_pref > 0.03)]['osi'],\n",
    "                            color_osi[(color_osi.color_pref == 0) & (color_osi.r_pref > 0.03)]['osi'])\n",
    "p"
   ]
  },
  {
   "cell_type": "code",
   "execution_count": 81,
   "metadata": {},
   "outputs": [
    {
     "ename": "NameError",
     "evalue": "name 'color_osi' is not defined",
     "traceback": [
      "\u001b[1;31m---------------------------------------------------------------------------\u001b[0m",
      "\u001b[1;31mNameError\u001b[0m                                 Traceback (most recent call last)",
      "\u001b[1;32m<ipython-input-81-ee96b498940f>\u001b[0m in \u001b[0;36m<module>\u001b[1;34m()\u001b[0m\n\u001b[1;32m----> 1\u001b[1;33m \u001b[0mcolor_osi\u001b[0m\u001b[1;33m\u001b[0m\u001b[0m\n\u001b[0m",
      "\u001b[1;31mNameError\u001b[0m: name 'color_osi' is not defined"
     ],
     "output_type": "error"
    }
   ],
   "source": [
    ""
   ]
  },
  {
   "cell_type": "code",
   "execution_count": null,
   "metadata": {},
   "outputs": [],
   "source": []
  }
 ],
 "metadata": {
  "kernelspec": {
   "display_name": "Python 2",
   "language": "python",
   "name": "python2"
  },
  "language_info": {
   "codemirror_mode": {
    "name": "ipython",
    "version": 2
   },
   "file_extension": ".py",
   "mimetype": "text/x-python",
   "name": "python",
   "nbconvert_exporter": "python",
   "pygments_lexer": "ipython2",
   "version": "2.7.6"
  }
 },
 "nbformat": 4,
 "nbformat_minor": 0
}
